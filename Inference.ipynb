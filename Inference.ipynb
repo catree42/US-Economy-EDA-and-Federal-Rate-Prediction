{
 "cells": [
  {
   "cell_type": "markdown",
   "metadata": {},
   "source": [
    "## 실제 추론\n",
    "- 가장 최근에 Fred에 업데이트된 경제지표들로 미래에 금리 변동 예측\n",
    "- 아직 업데이트 되지 않아 Nan 값인 컬럼들을 직전 기간의 데이터로 대체 "
   ]
  },
  {
   "cell_type": "code",
   "execution_count": 82,
   "metadata": {},
   "outputs": [],
   "source": [
    "import pandas as pd \n",
    "from sklearn.ensemble import RandomForestRegressor\n",
    "# 모델 저장\n",
    "import pickle\n",
    "import joblib\n",
    "import datetime \n",
    "from dateutil.relativedelta import relativedelta"
   ]
  },
  {
   "cell_type": "code",
   "execution_count": 55,
   "metadata": {},
   "outputs": [],
   "source": [
    "infer_df = pd.read_csv('dataframes/infer_df.csv')\n",
    "total_df = pd. read_csv('dataframes/mice_selected_df.csv')"
   ]
  },
  {
   "cell_type": "code",
   "execution_count": 71,
   "metadata": {},
   "outputs": [
    {
     "data": {
      "text/html": [
       "<div>\n",
       "<style scoped>\n",
       "    .dataframe tbody tr th:only-of-type {\n",
       "        vertical-align: middle;\n",
       "    }\n",
       "\n",
       "    .dataframe tbody tr th {\n",
       "        vertical-align: top;\n",
       "    }\n",
       "\n",
       "    .dataframe thead th {\n",
       "        text-align: right;\n",
       "    }\n",
       "</style>\n",
       "<table border=\"1\" class=\"dataframe\">\n",
       "  <thead>\n",
       "    <tr style=\"text-align: right;\">\n",
       "      <th></th>\n",
       "      <th>date</th>\n",
       "      <th>CPI</th>\n",
       "      <th>CPI_yoy</th>\n",
       "      <th>CPI_mom</th>\n",
       "      <th>coreCPI</th>\n",
       "      <th>coreCPI_yoy</th>\n",
       "      <th>coreCPI_mom</th>\n",
       "      <th>PCE</th>\n",
       "      <th>PCE_yoy</th>\n",
       "      <th>corePCE</th>\n",
       "      <th>corePCE_yoy</th>\n",
       "      <th>corePCE_mom</th>\n",
       "      <th>PPI</th>\n",
       "      <th>PPI_yoy</th>\n",
       "      <th>industrial production</th>\n",
       "      <th>interest rate</th>\n",
       "      <th>previous interest rate</th>\n",
       "      <th>next interest rate</th>\n",
       "      <th>previous change</th>\n",
       "      <th>present change</th>\n",
       "    </tr>\n",
       "  </thead>\n",
       "  <tbody>\n",
       "    <tr>\n",
       "      <th>0</th>\n",
       "      <td>2024-09-01</td>\n",
       "      <td>1.001966</td>\n",
       "      <td>0.263807</td>\n",
       "      <td>0.544732</td>\n",
       "      <td>1.003421</td>\n",
       "      <td>0.337583</td>\n",
       "      <td>0.365682</td>\n",
       "      <td>1.0</td>\n",
       "      <td>0.34127</td>\n",
       "      <td>1.0</td>\n",
       "      <td>0.324962</td>\n",
       "      <td>0.527597</td>\n",
       "      <td>0.889652</td>\n",
       "      <td>0.348722</td>\n",
       "      <td>0.988785</td>\n",
       "      <td>5.13</td>\n",
       "      <td>5.33</td>\n",
       "      <td>NaN</td>\n",
       "      <td>-0.2</td>\n",
       "      <td>NaN</td>\n",
       "    </tr>\n",
       "  </tbody>\n",
       "</table>\n",
       "</div>"
      ],
      "text/plain": [
       "         date       CPI   CPI_yoy   CPI_mom   coreCPI  coreCPI_yoy  \\\n",
       "0  2024-09-01  1.001966  0.263807  0.544732  1.003421     0.337583   \n",
       "\n",
       "   coreCPI_mom  PCE  PCE_yoy  corePCE  corePCE_yoy  corePCE_mom       PPI  \\\n",
       "0     0.365682  1.0  0.34127      1.0     0.324962     0.527597  0.889652   \n",
       "\n",
       "    PPI_yoy  industrial production  interest rate  previous interest rate  \\\n",
       "0  0.348722               0.988785           5.13                    5.33   \n",
       "\n",
       "   next interest rate  previous change  present change  \n",
       "0                 NaN             -0.2             NaN  "
      ]
     },
     "execution_count": 71,
     "metadata": {},
     "output_type": "execute_result"
    }
   ],
   "source": [
    "infer_idx = infer_df.index.start\n",
    "last_total_df = total_df.tail(1)\n",
    "last_total_idx = last_total_df.index.start\n",
    "skip_list = ['next interest rate', 'present change']\n",
    "for k in infer_df.keys():\n",
    "    if k in skip_list :\n",
    "        continue\n",
    "    if infer_df.isna()[k][infer_idx] == True: \n",
    "        infer_df[k][infer_idx] = last_total_df[k][last_total_idx]\n",
    "infer_df"
   ]
  },
  {
   "cell_type": "code",
   "execution_count": 87,
   "metadata": {},
   "outputs": [
    {
     "data": {
      "text/plain": [
       "-0.07889204557258363"
      ]
     },
     "execution_count": 87,
     "metadata": {},
     "output_type": "execute_result"
    }
   ],
   "source": [
    "# best model 불러오기\n",
    "model = joblib.load('best_model.pkl')\n",
    "features = infer_df.loc[:, (infer_df.columns != 'date') & (infer_df.columns != 'previous interest rate') & (infer_df.columns != 'next interest rate') & (infer_df.columns != 'previous change') & (infer_df.columns != 'present change')\n",
    "                  & (infer_df.columns != 'CPI')& (infer_df.columns != 'corePCE')& (infer_df.columns != 'PPI')& (infer_df.columns != 'industrial production')]\n",
    "infer = model.predict(features)\n",
    "infer[0]"
   ]
  },
  {
   "cell_type": "code",
   "execution_count": 88,
   "metadata": {},
   "outputs": [],
   "source": [
    "now = datetime.datetime.today()\n",
    "infer_month = (now + relativedelta(months=1)).month\n",
    "\n",
    "file_path = 'inferece.txt' \n",
    "\n",
    "text = f'the day inference : {now} | target month : {infer_month}, Fed fund rate inferenced : {infer[0]}'\n",
    "# 파일을 읽기 모드로 엽니다.\n",
    "with open(file_path, 'r') as f:\n",
    "    # 파일 내용을 읽어옵니다.\n",
    "    old_text = f.read()\n",
    "\n",
    "# 파일을 이어쓰기 모드로 엽니다.\n",
    "with open(file_path, 'a') as f:\n",
    "    # 수정된 내용을 파일에 이어서 씁니다.\n",
    "    f.write(text)\n",
    "\n",
    "# 파일을 닫습니다.\n",
    "f.close()"
   ]
  }
 ],
 "metadata": {
  "kernelspec": {
   "display_name": "economy",
   "language": "python",
   "name": "python3"
  },
  "language_info": {
   "codemirror_mode": {
    "name": "ipython",
    "version": 3
   },
   "file_extension": ".py",
   "mimetype": "text/x-python",
   "name": "python",
   "nbconvert_exporter": "python",
   "pygments_lexer": "ipython3",
   "version": "3.11.10"
  }
 },
 "nbformat": 4,
 "nbformat_minor": 2
}
